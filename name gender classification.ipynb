{
 "cells": [
  {
   "cell_type": "markdown",
   "id": "1c835aa5",
   "metadata": {},
   "source": [
    "### This project aims to classify the gender of names using a letter level neural network. First, the data needs to be prepared. We read in the data and split it into a training and held out set."
   ]
  },
  {
   "cell_type": "code",
   "execution_count": 1,
   "id": "0478c66f",
   "metadata": {},
   "outputs": [],
   "source": [
    "import pandas as pd\n",
    "import torch"
   ]
  },
  {
   "cell_type": "code",
   "execution_count": 2,
   "id": "d6aef89a",
   "metadata": {},
   "outputs": [
    {
     "data": {
      "text/html": [
       "<div>\n",
       "<style scoped>\n",
       "    .dataframe tbody tr th:only-of-type {\n",
       "        vertical-align: middle;\n",
       "    }\n",
       "\n",
       "    .dataframe tbody tr th {\n",
       "        vertical-align: top;\n",
       "    }\n",
       "\n",
       "    .dataframe thead th {\n",
       "        text-align: right;\n",
       "    }\n",
       "</style>\n",
       "<table border=\"1\" class=\"dataframe\">\n",
       "  <thead>\n",
       "    <tr style=\"text-align: right;\">\n",
       "      <th></th>\n",
       "      <th>Name</th>\n",
       "      <th>Gender</th>\n",
       "      <th>Count</th>\n",
       "      <th>Probability</th>\n",
       "    </tr>\n",
       "  </thead>\n",
       "  <tbody>\n",
       "    <tr>\n",
       "      <th>0</th>\n",
       "      <td>James</td>\n",
       "      <td>M</td>\n",
       "      <td>5304407</td>\n",
       "      <td>0.014517</td>\n",
       "    </tr>\n",
       "    <tr>\n",
       "      <th>1</th>\n",
       "      <td>John</td>\n",
       "      <td>M</td>\n",
       "      <td>5260831</td>\n",
       "      <td>0.014398</td>\n",
       "    </tr>\n",
       "    <tr>\n",
       "      <th>2</th>\n",
       "      <td>Robert</td>\n",
       "      <td>M</td>\n",
       "      <td>4970386</td>\n",
       "      <td>0.013603</td>\n",
       "    </tr>\n",
       "    <tr>\n",
       "      <th>3</th>\n",
       "      <td>Michael</td>\n",
       "      <td>M</td>\n",
       "      <td>4579950</td>\n",
       "      <td>0.012534</td>\n",
       "    </tr>\n",
       "    <tr>\n",
       "      <th>4</th>\n",
       "      <td>William</td>\n",
       "      <td>M</td>\n",
       "      <td>4226608</td>\n",
       "      <td>0.011567</td>\n",
       "    </tr>\n",
       "  </tbody>\n",
       "</table>\n",
       "</div>"
      ],
      "text/plain": [
       "      Name Gender    Count  Probability\n",
       "0    James      M  5304407     0.014517\n",
       "1     John      M  5260831     0.014398\n",
       "2   Robert      M  4970386     0.013603\n",
       "3  Michael      M  4579950     0.012534\n",
       "4  William      M  4226608     0.011567"
      ]
     },
     "execution_count": 2,
     "metadata": {},
     "output_type": "execute_result"
    }
   ],
   "source": [
    "df = pd.read_csv('name_gender_dataset.csv')\n",
    "df.head()"
   ]
  },
  {
   "cell_type": "code",
   "execution_count": 5,
   "id": "d85015b7",
   "metadata": {},
   "outputs": [
    {
     "name": "stdout",
     "output_type": "stream",
     "text": [
      "Length of male names:  57520\n",
      "['James', 'John', 'Robert', 'Michael', 'William']\n",
      "Length of female names:  89749\n",
      "['Mary', 'Elizabeth', 'Patricia', 'Jennifer', 'Linda']\n"
     ]
    }
   ],
   "source": [
    "# Build a dict with list of male and female names\n",
    "all_data = {}\n",
    "all_data[\"M\"] = []\n",
    "all_data[\"F\"] = []\n",
    "for i, row in df.iterrows():\n",
    "    gender = row[\"Gender\"]\n",
    "    all_data[gender].append(row[\"Name\"])\n",
    "\n",
    "print(\"Length of male names: \", len(all_data[\"M\"]))\n",
    "print(all_data[\"M\"][:5])\n",
    "\n",
    "print(\"Length of female names: \", len(all_data[\"F\"]))\n",
    "print(all_data[\"F\"][:5])"
   ]
  },
  {
   "cell_type": "code",
   "execution_count": 8,
   "id": "80cd549a",
   "metadata": {},
   "outputs": [
    {
     "name": "stdout",
     "output_type": "stream",
     "text": [
      "['Ethan-James', 'Trimayne', 'Tru', 'Johee', 'Uma']\n",
      "['Galina', 'Shakara', 'Fawnia', 'Uroosa', 'Akaylah']\n"
     ]
    }
   ],
   "source": [
    "# Want to split the data into training and held out set\n",
    "# First, need to randomly shuffle each list since they are sorted by count/probability\n",
    "import random\n",
    "random.shuffle(all_data[\"M\"])\n",
    "random.shuffle(all_data[\"F\"])\n",
    "print(all_data[\"M\"][:5])\n",
    "print(all_data[\"F\"][:5])"
   ]
  },
  {
   "cell_type": "code",
   "execution_count": 13,
   "id": "4ac3f05c",
   "metadata": {},
   "outputs": [],
   "source": [
    "# Use ~80% for training and rest for testing\n",
    "# Since we already randomly shuffled we can split by index\n",
    "len_M_training = int(len(all_data[\"M\"]) * .8)\n",
    "len_M_test = len(all_data[\"M\"]) - len_M_training\n",
    "\n",
    "len_F_training = int(len(all_data[\"F\"]) * .8)\n",
    "len_F_test = len(all_data[\"M\"]) - len_F_training\n",
    "\n",
    "\n",
    "training_data = {}\n",
    "test_data = {}\n",
    "\n",
    "training_data[\"M\"] = all_data[\"M\"][0:len_M_training]\n",
    "test_data[\"M\"] = all_data[\"M\"][len_M_training:]\n",
    "\n",
    "training_data[\"F\"] = all_data[\"F\"][0:len_F_training]\n",
    "test_data[\"F\"] = all_data[\"F\"][len_F_training:]"
   ]
  },
  {
   "cell_type": "markdown",
   "id": "4516d66a",
   "metadata": {},
   "source": [
    "### Next, we need some helper functions to turn each name into vectors. We use a one-hot vector representation of each letter to do this"
   ]
  },
  {
   "cell_type": "code",
   "execution_count": 15,
   "id": "f6bc6a9b",
   "metadata": {},
   "outputs": [
    {
     "name": "stdout",
     "output_type": "stream",
     "text": [
      "tensor([[[0., 0., 0., 0., 0., 0., 0., 0., 0., 0., 0., 0., 0., 0., 0., 0., 0.,\n",
      "          0., 0., 0., 0., 0., 0., 0., 0., 0., 0., 0., 0., 0., 0., 0., 0., 0.,\n",
      "          0., 0., 0., 0., 0., 0., 0., 0., 0., 0., 0., 1., 0., 0., 0., 0., 0.,\n",
      "          0.]],\n",
      "\n",
      "        [[0., 0., 0., 0., 0., 0., 0., 0., 0., 0., 0., 0., 0., 0., 0., 0., 0.,\n",
      "          1., 0., 0., 0., 0., 0., 0., 0., 0., 0., 0., 0., 0., 0., 0., 0., 0.,\n",
      "          0., 0., 0., 0., 0., 0., 0., 0., 0., 0., 0., 0., 0., 0., 0., 0., 0.,\n",
      "          0.]],\n",
      "\n",
      "        [[0., 0., 0., 0., 0., 0., 0., 0., 0., 0., 0., 0., 0., 0., 0., 0., 0.,\n",
      "          0., 0., 0., 1., 0., 0., 0., 0., 0., 0., 0., 0., 0., 0., 0., 0., 0.,\n",
      "          0., 0., 0., 0., 0., 0., 0., 0., 0., 0., 0., 0., 0., 0., 0., 0., 0.,\n",
      "          0.]]])\n",
      "torch.Size([3, 1, 52])\n"
     ]
    }
   ],
   "source": [
    "import torch\n",
    "import unicodedata\n",
    "import string\n",
    "\n",
    "# Get list of all letters so we can use their indices to form vectors\n",
    "# Where the corresponding index of the letter is the position in its vector where the value is 1, and the rest are 0\n",
    "all_letters = string.ascii_letters\n",
    "n_letters = len(all_letters)\n",
    "\n",
    "# Find letter index from all_letters, e.g. \"a\" = 0\n",
    "def letterToIndex(letter):\n",
    "    return all_letters.find(letter)\n",
    "\n",
    "# Turn a line into a <line_length x 1 x n_letters>,\n",
    "# or an array of one-hot letter vectors\n",
    "def lineToTensor(line):\n",
    "    tensor = torch.zeros(len(line), 1, n_letters)\n",
    "    for li, letter in enumerate(line):\n",
    "        tensor[li][0][letterToIndex(letter)] = 1\n",
    "    return tensor\n",
    "\n",
    "print(lineToTensor('Tru'))\n",
    "print(lineToTensor('Tru').size())\n"
   ]
  },
  {
   "cell_type": "markdown",
   "id": "e4ae00dd",
   "metadata": {},
   "source": [
    "### Now we can define the neural network we will use. We use just 2 layers (input to hidden and hidden to output) and a relatively small hidden size of 128. We also use a log softmax layer on the output to normalize probabilities"
   ]
  },
  {
   "cell_type": "code",
   "execution_count": 22,
   "id": "705efbc7",
   "metadata": {},
   "outputs": [],
   "source": [
    "import torch.nn as nn\n",
    "\n",
    "class RNN(nn.Module):\n",
    "    def __init__(self, input_size, hidden_size, output_size):\n",
    "        super(RNN, self).__init__()\n",
    "\n",
    "        self.hidden_size = hidden_size\n",
    "        # init layers and softmax function\n",
    "        self.i2h = nn.Linear(input_size + hidden_size, hidden_size)\n",
    "        self.h2o = nn.Linear(hidden_size, output_size)\n",
    "        self.softmax = nn.LogSoftmax(dim=1)\n",
    "\n",
    "    def forward(self, input, hidden):\n",
    "        # take the products of the input and NN layers\n",
    "        combined = torch.cat((input, hidden), 1)\n",
    "        # update hidden state\n",
    "        hidden = self.i2h(combined)\n",
    "        # compute output with softmax\n",
    "        output = self.h2o(hidden)\n",
    "        output = self.softmax(output)\n",
    "        return output, hidden\n",
    "\n",
    "    def initHidden(self):\n",
    "        return torch.zeros(1, self.hidden_size)\n",
    "    \n",
    "# Use reccommended hidden size 128 and output size 2 for each gender\n",
    "n_hidden = 128\n",
    "n_classes = 2\n",
    "rnn = RNN(n_letters, n_hidden, n_classes)"
   ]
  },
  {
   "cell_type": "markdown",
   "id": "be8059c4",
   "metadata": {},
   "source": [
    "### We can demonstrate the output and new hidden state as a result of a forward pass on a single example:"
   ]
  },
  {
   "cell_type": "code",
   "execution_count": 23,
   "id": "0e76532c",
   "metadata": {},
   "outputs": [
    {
     "name": "stdout",
     "output_type": "stream",
     "text": [
      "output:  tensor([[-0.6799, -0.7065]], grad_fn=<LogSoftmaxBackward0>)\n",
      "next hidden:  tensor([[0., 0., 0., 0., 0., 0., 0., 0., 0., 0., 0., 0., 0., 0., 0., 0., 0., 0., 0., 0., 0., 0., 0., 0.,\n",
      "         0., 0., 0., 0., 0., 0., 0., 0., 0., 0., 0., 0., 0., 0., 0., 0., 0., 0., 0., 0., 0., 0., 0., 0.,\n",
      "         0., 0., 0., 0., 0., 0., 0., 0., 0., 0., 0., 0., 0., 0., 0., 0., 0., 0., 0., 0., 0., 0., 0., 0.,\n",
      "         0., 0., 0., 0., 0., 0., 0., 0., 0., 0., 0., 0., 0., 0., 0., 0., 0., 0., 0., 0., 0., 0., 0., 0.,\n",
      "         0., 0., 0., 0., 0., 0., 0., 0., 0., 0., 0., 0., 0., 0., 0., 0., 0., 0., 0., 0., 0., 0., 0., 0.,\n",
      "         0., 0., 0., 0., 0., 0., 0., 0.]])\n"
     ]
    }
   ],
   "source": [
    "input = lineToTensor('Mary')\n",
    "hidden = torch.zeros(1, n_hidden)\n",
    "\n",
    "output, next_hidden = rnn(input[0], hidden)\n",
    "print(\"output: \", output)\n",
    "print(\"next hidden: \", hidden)"
   ]
  },
  {
   "cell_type": "markdown",
   "id": "795375a4",
   "metadata": {},
   "source": [
    "### Before we can start training the Neural Network we need a few helpers"
   ]
  },
  {
   "cell_type": "code",
   "execution_count": 26,
   "id": "eaa77a57",
   "metadata": {},
   "outputs": [
    {
     "name": "stdout",
     "output_type": "stream",
     "text": [
      "('M', 0)\n"
     ]
    }
   ],
   "source": [
    "# Get the gender from output probability vector\n",
    "all_categories = [\"M\", \"F\"]\n",
    "def categoryFromOutput(output):\n",
    "    top_n, top_i = output.topk(1)\n",
    "    category_i = top_i[0].item()\n",
    "    return all_categories[category_i], category_i\n",
    "\n",
    "print(categoryFromOutput(output))"
   ]
  },
  {
   "cell_type": "code",
   "execution_count": 28,
   "id": "fc54dc31",
   "metadata": {},
   "outputs": [
    {
     "name": "stdout",
     "output_type": "stream",
     "text": [
      "category = M / line = Olivier\n",
      "category = F / line = Mauricia\n",
      "category = F / line = Coraine\n",
      "category = F / line = Nalanee\n",
      "category = F / line = Luvinah\n",
      "category = F / line = Debraoh\n",
      "category = F / line = Mora\n",
      "category = M / line = Typan\n",
      "category = M / line = Denay\n",
      "category = M / line = Palash\n"
     ]
    }
   ],
   "source": [
    "# Functions to pick test and training examples at random\n",
    "# Instead of going through each example x amount of times, we will just randomly sample \n",
    "# The random selection can reduce noise and control for unequal number of male and female names\n",
    "import random\n",
    "\n",
    "def randomChoice(l):\n",
    "    return l[random.randint(0, len(l) - 1)]\n",
    "\n",
    "def randomTrainingExample():\n",
    "    category = randomChoice(all_categories)\n",
    "    line = randomChoice(training_data[category])\n",
    "    category_tensor = torch.tensor([all_categories.index(category)], dtype=torch.long)\n",
    "    line_tensor = lineToTensor(line)\n",
    "    return category, line, category_tensor, line_tensor\n",
    "\n",
    "def randomTestExample():\n",
    "    category = randomChoice(all_categories)\n",
    "    line = randomChoice(test_data[category])\n",
    "    category_tensor = torch.tensor([all_categories.index(category)], dtype=torch.long)\n",
    "    line_tensor = lineToTensor(line)\n",
    "    return category, line, category_tensor, line_tensor\n",
    "\n",
    "for i in range(10):\n",
    "    category, line, category_tensor, line_tensor = randomTrainingExample()\n",
    "    print('category =', category, '/ line =', line)"
   ]
  },
  {
   "cell_type": "markdown",
   "id": "f15ea329",
   "metadata": {},
   "source": [
    "### Define the training function with some hyperparameters:\n",
    "\n",
    "For each word, we reset the hidden layer and update the output and hidden state letter by letter, so that the hidden layer only encodes information about the previous letters in the word. Then we compute the loss and use it to update the parameter gradients."
   ]
  },
  {
   "cell_type": "code",
   "execution_count": 30,
   "id": "c716d546",
   "metadata": {},
   "outputs": [],
   "source": [
    "# We use negative log likelihood loss, recommended for classification problems & with log softmax output\n",
    "criterion = nn.NLLLoss()\n",
    "learning_rate = 0.005\n",
    "\n",
    "def train(category_tensor, line_tensor):\n",
    "    # initialize new hidden layer\n",
    "    hidden = rnn.initHidden()\n",
    "    # set gradients to 0\n",
    "    rnn.zero_grad()\n",
    "    # train letter by letter \n",
    "    for i in range(line_tensor.size()[0]):\n",
    "        output, hidden = rnn(line_tensor[i], hidden)\n",
    "\n",
    "    loss = criterion(output, category_tensor)\n",
    "    loss.backward()\n",
    "\n",
    "    # Add parameters' gradients to their values, multiplied by learning rate\n",
    "    for p in rnn.parameters():\n",
    "        p.data.add_(p.grad.data, alpha=-learning_rate)\n",
    "\n",
    "    return output, loss.item()"
   ]
  },
  {
   "cell_type": "markdown",
   "id": "ce22a5db",
   "metadata": {},
   "source": [
    "### Now we are ready to train\n",
    "\n",
    "We iterate over randomly selected training examples, printing out progress and guesses to keep an eye on progress. We keep track of losses to plot them afterwards"
   ]
  },
  {
   "cell_type": "code",
   "execution_count": 31,
   "id": "3463e174",
   "metadata": {},
   "outputs": [
    {
     "name": "stdout",
     "output_type": "stream",
     "text": [
      "5000 5% (0m 8s) 0.2753 Tanikah-Jemma / F ✓\n",
      "10000 10% (0m 15s) 0.5101 Seydi / F ✓\n",
      "15000 15% (0m 23s) 2.8297 Adnya / F ✗ (M)\n",
      "20000 20% (0m 31s) 0.4657 Lisette-Marie / F ✓\n",
      "25000 25% (0m 38s) 0.5563 Abbey-Kate / F ✓\n",
      "30000 30% (0m 45s) 1.7960 Idika / F ✗ (M)\n",
      "35000 35% (0m 52s) 0.4410 Meharveer / M ✓\n",
      "40000 40% (1m 0s) 0.2408 Jacobjames / M ✓\n",
      "45000 45% (1m 8s) 0.0523 Ameshia / F ✓\n",
      "50000 50% (1m 14s) 0.2936 Gracielle / F ✓\n",
      "55000 55% (1m 21s) 0.1133 Arvis / M ✓\n",
      "60000 60% (1m 28s) 2.4110 Viviana / F ✗ (M)\n",
      "65000 65% (1m 35s) 0.0873 Marceia / F ✓\n",
      "70000 70% (1m 41s) 0.0261 Emellia / F ✓\n",
      "75000 75% (1m 48s) 1.2886 Penny / F ✗ (M)\n",
      "80000 80% (1m 55s) 0.1475 Cyrus / M ✓\n",
      "85000 85% (2m 2s) 0.9302 Ruaridh / F ✗ (M)\n",
      "90000 90% (2m 10s) 1.2012 Leonardo / M ✗ (F)\n",
      "95000 95% (2m 18s) 0.5611 Geovoni / M ✓\n",
      "100000 100% (2m 25s) 0.1493 Leialoha / F ✓\n"
     ]
    }
   ],
   "source": [
    "import time\n",
    "import math\n",
    "\n",
    "n_iters = 100000\n",
    "print_every = 5000\n",
    "plot_every = 1000\n",
    "\n",
    "\n",
    "\n",
    "# Keep track of losses for plotting\n",
    "current_loss = 0\n",
    "all_losses = []\n",
    "\n",
    "def timeSince(since):\n",
    "    now = time.time()\n",
    "    s = now - since\n",
    "    m = math.floor(s / 60)\n",
    "    s -= m * 60\n",
    "    return '%dm %ds' % (m, s)\n",
    "\n",
    "start = time.time()\n",
    "\n",
    "for iter in range(1, n_iters + 1):\n",
    "    category, line, category_tensor, line_tensor = randomTrainingExample()\n",
    "    output, loss = train(category_tensor, line_tensor)\n",
    "    current_loss += loss\n",
    "\n",
    "    # Print ``iter`` number, loss, name and guess\n",
    "    if iter % print_every == 0:\n",
    "        guess, guess_i = categoryFromOutput(output)\n",
    "        correct = '✓' if guess == category else '✗ (%s)' % category\n",
    "        print('%d %d%% (%s) %.4f %s / %s %s' % (iter, iter / n_iters * 100, timeSince(start), loss, line, guess, correct))\n",
    "\n",
    "    # Add current loss avg to list of losses\n",
    "    if iter % plot_every == 0:\n",
    "        all_losses.append(current_loss / plot_every)\n",
    "        current_loss = 0"
   ]
  },
  {
   "cell_type": "markdown",
   "id": "a9fb0592",
   "metadata": {},
   "source": [
    "### After training, we can plot the losses over iterations"
   ]
  },
  {
   "cell_type": "code",
   "execution_count": 32,
   "id": "a68d4f06",
   "metadata": {},
   "outputs": [
    {
     "data": {
      "text/plain": [
       "[<matplotlib.lines.Line2D at 0x7ff2dc28de10>]"
      ]
     },
     "execution_count": 32,
     "metadata": {},
     "output_type": "execute_result"
    },
    {
     "data": {
      "image/png": "[encoded data removed]",
      "text/plain": [
       "<Figure size 640x480 with 1 Axes>"
      ]
     },
     "metadata": {},
     "output_type": "display_data"
    }
   ],
   "source": [
    "import matplotlib.pyplot as plt\n",
    "import matplotlib.ticker as ticker\n",
    "\n",
    "plt.figure()\n",
    "plt.plot(all_losses)"
   ]
  },
  {
   "cell_type": "markdown",
   "id": "f375914a",
   "metadata": {},
   "source": [
    "### We can also use a confusion matrix to see the percent of correct guesses for training and test data"
   ]
  },
  {
   "cell_type": "code",
   "execution_count": 35,
   "id": "53457551",
   "metadata": {},
   "outputs": [
    {
     "name": "stdout",
     "output_type": "stream",
     "text": [
      "M confusion:  tensor([0.8293, 0.1707])\n",
      "F confusion:  tensor([0.3093, 0.6907])\n"
     ]
    },
    {
     "name": "stderr",
     "output_type": "stream",
     "text": [
      "/var/folders/rb/k9pmvtxs1wv4y7fl9s364ybw0000gn/T/ipykernel_41647/4095328986.py:37: UserWarning: FixedFormatter should only be used together with FixedLocator\n",
      "  ax.set_xticklabels([''] + all_categories, rotation=90)\n",
      "/var/folders/rb/k9pmvtxs1wv4y7fl9s364ybw0000gn/T/ipykernel_41647/4095328986.py:38: UserWarning: FixedFormatter should only be used together with FixedLocator\n",
      "  ax.set_yticklabels([''] + all_categories)\n"
     ]
    },
    {
     "data": {
      "image/png": "[encoded data removed]",
      "text/plain": [
       "<Figure size 640x480 with 2 Axes>"
      ]
     },
     "metadata": {},
     "output_type": "display_data"
    }
   ],
   "source": [
    "# Keep track of correct guesses in a confusion matrix\n",
    "n_categories = 2\n",
    "confusion = torch.zeros(n_categories, n_categories)\n",
    "n_confusion = 10000\n",
    "\n",
    "# Just return an output given a line\n",
    "def evaluate(line_tensor):\n",
    "    hidden = rnn.initHidden()\n",
    "\n",
    "    for i in range(line_tensor.size()[0]):\n",
    "        output, hidden = rnn(line_tensor[i], hidden)\n",
    "\n",
    "    return output\n",
    "\n",
    "# Go through a bunch of examples and record which are correctly guessed\n",
    "for i in range(n_confusion):\n",
    "    category, line, category_tensor, line_tensor = randomTrainingExample()\n",
    "    output = evaluate(line_tensor)\n",
    "    guess, guess_i = categoryFromOutput(output)\n",
    "    category_i = all_categories.index(category)\n",
    "    confusion[category_i][guess_i] += 1\n",
    "\n",
    "# Normalize by dividing every row by its sum\n",
    "for i in range(n_categories):\n",
    "    confusion[i] = confusion[i] / confusion[i].sum()\n",
    "    \n",
    "print(\"M confusion: \", confusion[0])\n",
    "print(\"F confusion: \", confusion[1])\n",
    "\n",
    "# Set up plot\n",
    "fig = plt.figure()\n",
    "ax = fig.add_subplot(111)\n",
    "cax = ax.matshow(confusion.numpy())\n",
    "fig.colorbar(cax)\n",
    "\n",
    "# Set up axes\n",
    "ax.set_xticklabels([''] + all_categories, rotation=90)\n",
    "ax.set_yticklabels([''] + all_categories)\n",
    "\n",
    "# Force label at every tick\n",
    "ax.xaxis.set_major_locator(ticker.MultipleLocator(1))\n",
    "ax.yaxis.set_major_locator(ticker.MultipleLocator(1))\n",
    "\n",
    "# sphinx_gallery_thumbnail_number = 2\n",
    "plt.show()"
   ]
  },
  {
   "cell_type": "markdown",
   "id": "edec89bb",
   "metadata": {},
   "source": [
    "On the training data, the classifier predicts the gender of male names correctly more than 80% of the time but less than 70% of the time for female names. "
   ]
  },
  {
   "cell_type": "code",
   "execution_count": 36,
   "id": "dc5b8c45",
   "metadata": {},
   "outputs": [
    {
     "name": "stdout",
     "output_type": "stream",
     "text": [
      "M confusion:  tensor([0.8367, 0.1633])\n",
      "F confusion:  tensor([0.3095, 0.6905])\n"
     ]
    },
    {
     "name": "stderr",
     "output_type": "stream",
     "text": [
      "/var/folders/rb/k9pmvtxs1wv4y7fl9s364ybw0000gn/T/ipykernel_41647/1099538935.py:37: UserWarning: FixedFormatter should only be used together with FixedLocator\n",
      "  ax.set_xticklabels([''] + all_categories, rotation=90)\n",
      "/var/folders/rb/k9pmvtxs1wv4y7fl9s364ybw0000gn/T/ipykernel_41647/1099538935.py:38: UserWarning: FixedFormatter should only be used together with FixedLocator\n",
      "  ax.set_yticklabels([''] + all_categories)\n"
     ]
    },
    {
     "data": {
      "image/png": "[encoded data removed]",
      "text/plain": [
       "<Figure size 640x480 with 2 Axes>"
      ]
     },
     "metadata": {},
     "output_type": "display_data"
    }
   ],
   "source": [
    "# Keep track of correct guesses in a confusion matrix\n",
    "n_categories = 2\n",
    "confusion = torch.zeros(n_categories, n_categories)\n",
    "n_confusion = 10000\n",
    "\n",
    "# Just return an output given a line\n",
    "def evaluate(line_tensor):\n",
    "    hidden = rnn.initHidden()\n",
    "\n",
    "    for i in range(line_tensor.size()[0]):\n",
    "        output, hidden = rnn(line_tensor[i], hidden)\n",
    "\n",
    "    return output\n",
    "\n",
    "# Go through a bunch of examples and record which are correctly guessed\n",
    "for i in range(n_confusion):\n",
    "    category, line, category_tensor, line_tensor = randomTestExample()\n",
    "    output = evaluate(line_tensor)\n",
    "    guess, guess_i = categoryFromOutput(output)\n",
    "    category_i = all_categories.index(category)\n",
    "    confusion[category_i][guess_i] += 1\n",
    "\n",
    "# Normalize by dividing every row by its sum\n",
    "for i in range(n_categories):\n",
    "    confusion[i] = confusion[i] / confusion[i].sum()\n",
    "    \n",
    "print(\"M confusion: \", confusion[0])\n",
    "print(\"F confusion: \", confusion[1])\n",
    "\n",
    "# Set up plot\n",
    "fig = plt.figure()\n",
    "ax = fig.add_subplot(111)\n",
    "cax = ax.matshow(confusion.numpy())\n",
    "fig.colorbar(cax)\n",
    "\n",
    "# Set up axes\n",
    "ax.set_xticklabels([''] + all_categories, rotation=90)\n",
    "ax.set_yticklabels([''] + all_categories)\n",
    "\n",
    "# Force label at every tick\n",
    "ax.xaxis.set_major_locator(ticker.MultipleLocator(1))\n",
    "ax.yaxis.set_major_locator(ticker.MultipleLocator(1))\n",
    "\n",
    "# sphinx_gallery_thumbnail_number = 2\n",
    "plt.show()"
   ]
  },
  {
   "cell_type": "markdown",
   "id": "810f7a1d",
   "metadata": {},
   "source": [
    "We get quite similar values on the held out dataset, indicating that our classifier is not over trained "
   ]
  },
  {
   "cell_type": "markdown",
   "id": "eaa7befb",
   "metadata": {},
   "source": [
    "### Results:\n",
    "The classifier is significantly more accurate at guessing the gender of male names and less so for female names which is quite interesting. However, at least based on the training example guesses, I believe the accuracy for the classifier is not far off from what the human accuracy would be. Additionally, the performance does not significantly differ between the evaluating on the training and test datasets which indicate that the classifier is not overtrained and is able to generalize well to new data."
   ]
  },
  {
   "cell_type": "code",
   "execution_count": null,
   "id": "017c575c",
   "metadata": {},
   "outputs": [],
   "source": []
  }
 ],
 "metadata": {
  "kernelspec": {
   "display_name": "Python 3 (ipykernel)",
   "language": "python",
   "name": "python3"
  },
  "language_info": {
   "codemirror_mode": {
    "name": "ipython",
    "version": 3
   },
   "file_extension": ".py",
   "mimetype": "text/x-python",
   "name": "python",
   "nbconvert_exporter": "python",
   "pygments_lexer": "ipython3",
   "version": "3.10.11"
  }
 },
 "nbformat": 4,
 "nbformat_minor": 5
}
